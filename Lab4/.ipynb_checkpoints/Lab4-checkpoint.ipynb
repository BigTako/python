{
 "cells": [
  {
   "cell_type": "code",
   "execution_count": 2,
   "id": "initial_id",
   "metadata": {
    "ExecuteTime": {
     "end_time": "2023-11-15T21:31:25.764382900Z",
     "start_time": "2023-11-15T21:31:24.889673200Z"
    },
    "collapsed": true,
    "jupyter": {
     "outputs_hidden": true
    }
   },
   "outputs": [],
   "source": [
    "import pandas as pd\n",
    "import random\n",
    "import base64\n",
    "from io import BytesIO\n",
    "from IPython.display import HTML\n",
    "\n",
    "import os\n",
    "from PIL import Image\n",
    "import pandas as pd\n",
    "import glob"
   ]
  },
  {
   "cell_type": "code",
   "execution_count": 1,
   "id": "ca477335df16d223",
   "metadata": {
    "ExecuteTime": {
     "end_time": "2023-11-15T21:32:47.662392200Z",
     "start_time": "2023-11-15T21:32:44.907368700Z"
    }
   },
   "outputs": [
    {
     "ename": "NameError",
     "evalue": "name 'os' is not defined",
     "output_type": "error",
     "traceback": [
      "\u001b[1;31m---------------------------------------------------------------------------\u001b[0m",
      "\u001b[1;31mNameError\u001b[0m                                 Traceback (most recent call last)",
      "Cell \u001b[1;32mIn[1], line 56\u001b[0m\n\u001b[0;32m     54\u001b[0m \u001b[38;5;66;03m# Example usage:\u001b[39;00m\n\u001b[0;32m     55\u001b[0m folder_path \u001b[38;5;241m=\u001b[39m \u001b[38;5;124m\"\u001b[39m\u001b[38;5;124mD:\u001b[39m\u001b[38;5;124m\\\u001b[39m\u001b[38;5;124mStuding\u001b[39m\u001b[38;5;124m\\\u001b[39m\u001b[38;5;124mpythonLab1\u001b[39m\u001b[38;5;124m\\\u001b[39m\u001b[38;5;124mLab4\u001b[39m\u001b[38;5;124m\\\u001b[39m\u001b[38;5;124mpubli\u001b[39m\u001b[38;5;124m\"\u001b[39m\n\u001b[1;32m---> 56\u001b[0m img_set \u001b[38;5;241m=\u001b[39m get_image_info(folder_path)\n\u001b[0;32m     57\u001b[0m HTML(img_set\u001b[38;5;241m.\u001b[39mto_html(formatters\u001b[38;5;241m=\u001b[39m{\u001b[38;5;124m'\u001b[39m\u001b[38;5;124mimage\u001b[39m\u001b[38;5;124m'\u001b[39m: image_formatter}, escape\u001b[38;5;241m=\u001b[39m\u001b[38;5;28;01mFalse\u001b[39;00m))\n",
      "Cell \u001b[1;32mIn[1], line 22\u001b[0m, in \u001b[0;36mget_image_info\u001b[1;34m(folder_path)\u001b[0m\n\u001b[0;32m     19\u001b[0m \u001b[38;5;28;01mdef\u001b[39;00m \u001b[38;5;21mget_image_info\u001b[39m(folder_path):\n\u001b[0;32m     20\u001b[0m     image_data \u001b[38;5;241m=\u001b[39m []\n\u001b[1;32m---> 22\u001b[0m     \u001b[38;5;28;01mfor\u001b[39;00m file_name \u001b[38;5;129;01min\u001b[39;00m os\u001b[38;5;241m.\u001b[39mlistdir(folder_path):\n\u001b[0;32m     23\u001b[0m         file_path \u001b[38;5;241m=\u001b[39m os\u001b[38;5;241m.\u001b[39mpath\u001b[38;5;241m.\u001b[39mjoin(folder_path, file_name)\n\u001b[0;32m     25\u001b[0m         \u001b[38;5;28;01mif\u001b[39;00m os\u001b[38;5;241m.\u001b[39mpath\u001b[38;5;241m.\u001b[39misfile(file_path):\n",
      "\u001b[1;31mNameError\u001b[0m: name 'os' is not defined"
     ]
    }
   ],
   "source": [
    "\n",
    "\n",
    "def process_images(folder_path):\n",
    "    # Перевірка існування папки\n",
    "    if not os.path.exists(folder_path):\n",
    "        raise ValueError(f\"The folder '{folder_path}' does not exist.\")\n",
    "\n",
    "    # Створення списку файлів у папці, які є зображеннями\n",
    "    image_files = glob.glob(os.path.join(folder_path, '*.jpg')) + glob.glob(os.path.join(folder_path, '*.jpeg')) + glob.glob(os.path.join(folder_path, '*.png'))\n",
    "\n",
    "    # Створення пустого DataFrame\n",
    "    columns = ['File Name', 'Color Model', 'Format', 'Channels', 'File Size (MB)', 'Width', 'Height', 'Full Path', 'Resized Image']\n",
    "    df = pd.DataFrame(columns=columns)\n",
    "\n",
    "    # Опрацювання кожного файлу\n",
    "    for file_path in image_files:\n",
    "        try:\n",
    "            # Отримання інформації про зображення\n",
    "            with Image.open(file_path) as img:\n",
    "                file_name = os.path.basename(file_path)\n",
    "                color_model = img.mode\n",
    "                image_format = img.format\n",
    "                channels = len(img.getbands())\n",
    "                file_size_mb = round(os.path.getsize(file_path) / (1024 * 1024), 2)\n",
    "                width, height = img.size\n",
    "                full_path = os.path.abspath(file_path)\n",
    "\n",
    "                # Зменшення розмірів зображення (якщо потрібно)\n",
    "                resized_img = img.resize((100, 100))\n",
    "                resized_img_path = os.path.join(folder_path, 'resized', file_name)\n",
    "                resized_img.save(resized_img_path)\n",
    "\n",
    "                # Додавання інформації до DataFrame\n",
    "                df = df.append({\n",
    "                    'File Name': file_name,\n",
    "                    'Color Model': color_model,\n",
    "                    'Format': image_format,\n",
    "                    'Channels': channels,\n",
    "                    'File Size (MB)': file_size_mb,\n",
    "                    'Width': width,\n",
    "                    'Height': height,\n",
    "                    'Full Path': full_path,\n",
    "                    'Resized Image': resized_img_path\n",
    "                }, ignore_index=True)\n",
    "        except Exception as e:\n",
    "            print(f\"Error processing file {file_path}: {e}\")\n",
    "\n",
    "    return df\n",
    "\n",
    "# Приклад використання\n",
    "folder_path = '/path/to/your/images'\n",
    "result_df = process_images(folder_path)\n",
    "\n",
    "# Виведення результатів\n",
    "print(result_df)"
   ]
  },
  {
   "cell_type": "code",
   "execution_count": 4,
   "id": "c22b7892cf89d431",
   "metadata": {
    "ExecuteTime": {
     "end_time": "2023-11-15T21:59:26.987446200Z",
     "start_time": "2023-11-15T21:59:15.743174400Z"
    }
   },
   "outputs": [
    {
     "ename": "FileNotFoundError",
     "evalue": "[WinError 3] The system cannot find the path specified: 'D:\\\\Studing\\\\pythonLab1\\\\Lab4\\\\public'",
     "output_type": "error",
     "traceback": [
      "\u001b[1;31m---------------------------------------------------------------------------\u001b[0m",
      "\u001b[1;31mFileNotFoundError\u001b[0m                         Traceback (most recent call last)",
      "Cell \u001b[1;32mIn[4], line 60\u001b[0m\n\u001b[0;32m     57\u001b[0m \u001b[38;5;66;03m# Example usage:\u001b[39;00m\n\u001b[0;32m     58\u001b[0m folder_path \u001b[38;5;241m=\u001b[39m \u001b[38;5;124m\"\u001b[39m\u001b[38;5;124mD:\u001b[39m\u001b[38;5;124m\\\u001b[39m\u001b[38;5;124mStuding\u001b[39m\u001b[38;5;124m\\\u001b[39m\u001b[38;5;124mpythonLab1\u001b[39m\u001b[38;5;124m\\\u001b[39m\u001b[38;5;124mLab4\u001b[39m\u001b[38;5;124m\\\u001b[39m\u001b[38;5;124mpublic\u001b[39m\u001b[38;5;124m\"\u001b[39m\n\u001b[1;32m---> 60\u001b[0m create_poster(folder_path, \u001b[38;5;124m'\u001b[39m\u001b[38;5;124mposter1.jpg\u001b[39m\u001b[38;5;124m'\u001b[39m, \u001b[38;5;241m3\u001b[39m, \u001b[38;5;241m2\u001b[39m)\n\u001b[0;32m     61\u001b[0m create_poster(folder_path, \u001b[38;5;124m'\u001b[39m\u001b[38;5;124mposter2.jpg\u001b[39m\u001b[38;5;124m'\u001b[39m, \u001b[38;5;241m3\u001b[39m, \u001b[38;5;241m4\u001b[39m)\n\u001b[0;32m     62\u001b[0m create_poster(folder_path, \u001b[38;5;124m'\u001b[39m\u001b[38;5;124mposter3.jpg\u001b[39m\u001b[38;5;124m'\u001b[39m, \u001b[38;5;241m6\u001b[39m, \u001b[38;5;241m6\u001b[39m)\n",
      "Cell \u001b[1;32mIn[4], line 34\u001b[0m, in \u001b[0;36mcreate_poster\u001b[1;34m(folder_path, output_name, columns, rows)\u001b[0m\n\u001b[0;32m     31\u001b[0m images \u001b[38;5;241m=\u001b[39m []\n\u001b[0;32m     33\u001b[0m \u001b[38;5;28;01mfor\u001b[39;00m _ \u001b[38;5;129;01min\u001b[39;00m \u001b[38;5;28mrange\u001b[39m(columns \u001b[38;5;241m*\u001b[39m rows):\n\u001b[1;32m---> 34\u001b[0m     random_image_path \u001b[38;5;241m=\u001b[39m random\u001b[38;5;241m.\u001b[39mchoice(os\u001b[38;5;241m.\u001b[39mlistdir(folder_path))\n\u001b[0;32m     35\u001b[0m     image_path \u001b[38;5;241m=\u001b[39m os\u001b[38;5;241m.\u001b[39mpath\u001b[38;5;241m.\u001b[39mjoin(folder_path, random_image_path)\n\u001b[0;32m     36\u001b[0m     image \u001b[38;5;241m=\u001b[39m Image\u001b[38;5;241m.\u001b[39mopen(image_path)\n",
      "\u001b[1;31mFileNotFoundError\u001b[0m: [WinError 3] The system cannot find the path specified: 'D:\\\\Studing\\\\pythonLab1\\\\Lab4\\\\public'"
     ]
    }
   ],
   "source": [
    "import os\n",
    "import random\n",
    "from PIL import Image, ImageFilter, ImageOps\n",
    "\n",
    "\n",
    "def crop_and_resize(image, target_size):\n",
    "    width, height = image.size\n",
    "    new_size = min(width, height)\n",
    "    left = (width - new_size) // 2\n",
    "    top = (height - new_size) // 2\n",
    "    right = (width + new_size) // 2\n",
    "    bottom = (height + new_size) // 2\n",
    "\n",
    "    cropped_image = image.crop((left, top, right, bottom))\n",
    "    resized_image = cropped_image.resize((target_size, target_size))\n",
    "\n",
    "    return resized_image\n",
    "\n",
    "\n",
    "def apply_random_color_filter(image):\n",
    "    filters = ['#FF0000', '#00FF00', '#0000FF', '#FFFF00', '#800080', '#00FFFF']\n",
    "    selected_filter = random.choice(filters)\n",
    "    colorized_image = ImageOps.colorize(image.convert(\"L\"), selected_filter, selected_filter)\n",
    "\n",
    "    blended_image = Image.blend(image, colorized_image.convert(\"RGB\"), alpha=0.5)  # Adjust alpha as needed\n",
    "\n",
    "    return blended_image\n",
    "\n",
    "\n",
    "def create_poster(folder_path, output_name, columns, rows):\n",
    "    images = []\n",
    "\n",
    "    for _ in range(columns * rows):\n",
    "        random_image_path = random.choice(os.listdir(folder_path))\n",
    "        image_path = os.path.join(folder_path, random_image_path)\n",
    "        image = Image.open(image_path)\n",
    "\n",
    "        # Transform the image\n",
    "        image = crop_and_resize(image, 533)\n",
    "        image = image.resize((500, 500))\n",
    "        image = apply_random_color_filter(image)\n",
    "        images.append(image)\n",
    "\n",
    "    # Create the poster\n",
    "    poster = Image.new('RGB', (columns * 500, rows * 500))\n",
    "\n",
    "    for i in range(rows):\n",
    "        for j in range(columns):\n",
    "            index = i * columns + j\n",
    "            poster.paste(images[index], (j * 500, i * 500))\n",
    "\n",
    "    # Save the poster\n",
    "    poster.save(output_name + '.png')\n",
    "    print(f\"Poster '{output_name}.png' has been created.\")\n",
    "\n",
    "\n",
    "# Example usage:\n",
    "folder_path = \"D:\\Studing\\pythonLab1\\Lab4\\public\"\n",
    "\n",
    "create_poster(folder_path, 'poster1.jpg', 3, 2)\n",
    "create_poster(folder_path, 'poster2.jpg', 3, 4)\n",
    "create_poster(folder_path, 'poster3.jpg', 6, 6)"
   ]
  },
  {
   "cell_type": "markdown",
   "id": "5e5ebdbccc705974",
   "metadata": {},
   "source": []
  }
 ],
 "metadata": {
  "kernelspec": {
   "display_name": "Python 3 (ipykernel)",
   "language": "python",
   "name": "python3"
  },
  "language_info": {
   "codemirror_mode": {
    "name": "ipython",
    "version": 3
   },
   "file_extension": ".py",
   "mimetype": "text/x-python",
   "name": "python",
   "nbconvert_exporter": "python",
   "pygments_lexer": "ipython3",
   "version": "3.11.5"
  }
 },
 "nbformat": 4,
 "nbformat_minor": 5
}
