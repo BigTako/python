{
 "cells": [
  {
   "cell_type": "markdown",
   "id": "c7c36fb8489bd76e",
   "metadata": {},
   "source": [
    "# **<span style=\"color: yellow\">Норвегія</span>**\n",
    "\n",
    "#### Загальні характеристики\n",
    "\n",
    "|                |                                                         |\n",
    "-----------------|---------------------------------------------------------\n",
    "Площа            | 385,207 тис. км²                                        \n",
    "Населення        | 5 488 984 осіб                                          \n",
    "Державний устрій | Парламентська конституційна монархія унітарного устрою. \n",
    "\n",
    "---\n",
    "\n",
    "### Видатні персоналії\n",
    "* Генрік Ібсен — драматург\n",
    "* Йон Фоссе — норвезький письменник та драматург\n",
    "* Кнут Гамсун — письменник\n",
    "\n",
    "### Прапор Норвегії"
   ]
  },
  {
   "cell_type": "code",
   "execution_count": 1,
   "id": "e34fbecaba77d2ef",
   "metadata": {
    "ExecuteTime": {
     "end_time": "2023-10-31T16:34:47.000076Z",
     "start_time": "2023-10-31T16:34:46.990383Z"
    }
   },
   "outputs": [
    {
     "data": {
      "text/html": [
       "<svg viewBox=\"0 0 22 16\">\n",
       "\t<title>Flag of Norway</title>\n",
       "\t<rect width=\"22\" height=\"16\" fill=\"#ba0c2f\"/>\n",
       "\t<path d=\"M0,8h22M8,0v16\" stroke=\"#fff\" stroke-width=\"4\"/>\n",
       "\t<path d=\"M0,8h22M8,0v16\" stroke=\"#00205b\" stroke-width=\"2\"/>\n",
       "<title xmlns=\"http://www.w3.org/2000/svg\">Flag of Norway</title>\n",
       "<rect xmlns=\"http://www.w3.org/2000/svg\" width=\"22\" height=\"16\" fill=\"#ba0c2f\"/>\n",
       "<path xmlns=\"http://www.w3.org/2000/svg\" d=\"M0,8h22M8,0v16\" stroke=\"#fff\" stroke-width=\"4\"/>\n",
       "<path xmlns=\"http://www.w3.org/2000/svg\" d=\"M0,8h22M8,0v16\" stroke=\"#00205b\" stroke-width=\"2\"/>\n",
       "\t<title>Flag of Norway</title>\n",
       "\t<rect width=\"22\" height=\"16\" fill=\"#ba0c2f\"/>\n",
       "\t<path d=\"M0,8h22M8,0v16\" stroke=\"#fff\" stroke-width=\"4\"/>\n",
       "\t<path d=\"M0,8h22M8,0v16\" stroke=\"#00205b\" stroke-width=\"2\"/>\n",
       "</svg>\n"
      ],
      "text/plain": [
       "<IPython.core.display.HTML object>"
      ]
     },
     "metadata": {},
     "output_type": "display_data"
    }
   ],
   "source": [
    "%%HTML\n",
    "<svg viewBox=\"0 0 22 16\">\n",
    "\t<title>Flag of Norway</title>\n",
    "\t<rect width=\"22\" height=\"16\" fill=\"#ba0c2f\"/>\n",
    "\t<path d=\"M0,8h22M8,0v16\" stroke=\"#fff\" stroke-width=\"4\"/>\n",
    "\t<path d=\"M0,8h22M8,0v16\" stroke=\"#00205b\" stroke-width=\"2\"/>\n",
    "<title xmlns=\"http://www.w3.org/2000/svg\">Flag of Norway</title>\n",
    "<rect xmlns=\"http://www.w3.org/2000/svg\" width=\"22\" height=\"16\" fill=\"#ba0c2f\"/>\n",
    "<path xmlns=\"http://www.w3.org/2000/svg\" d=\"M0,8h22M8,0v16\" stroke=\"#fff\" stroke-width=\"4\"/>\n",
    "<path xmlns=\"http://www.w3.org/2000/svg\" d=\"M0,8h22M8,0v16\" stroke=\"#00205b\" stroke-width=\"2\"/>\n",
    "\t<title>Flag of Norway</title>\n",
    "\t<rect width=\"22\" height=\"16\" fill=\"#ba0c2f\"/>\n",
    "\t<path d=\"M0,8h22M8,0v16\" stroke=\"#fff\" stroke-width=\"4\"/>\n",
    "\t<path d=\"M0,8h22M8,0v16\" stroke=\"#00205b\" stroke-width=\"2\"/>\n",
    "</svg>"
   ]
  },
  {
   "cell_type": "markdown",
   "id": "21d804812f7a3442",
   "metadata": {},
   "source": [
    "### Герб Норвегії\n",
    "![Coat of arms of Norway](https://upload.wikimedia.org/wikipedia/commons/thumb/9/95/Coat_of_arms_of_Norway.svg/170px-Coat_of_arms_of_Norway.svg.png)"
   ]
  },
  {
   "cell_type": "code",
   "execution_count": 2,
   "id": "843815a05b351914",
   "metadata": {
    "ExecuteTime": {
     "end_time": "2023-10-31T16:34:47.008461Z",
     "start_time": "2023-10-31T16:34:47.007996Z"
    }
   },
   "outputs": [],
   "source": [
    "import math\n",
    "\n",
    "\n",
    "def is_sum_of_squares(c):\n",
    "    \n",
    "    if not isinstance(c, (int, float)):\n",
    "        return 'Отримано нечислове значення'\n",
    "    \n",
    "    if c >= 0:\n",
    "        for a in range(int(math.sqrt(c)) + 1):\n",
    "            b = int(math.sqrt(c - a ** 2))\n",
    "\n",
    "            if a ** 2 + b ** 2 == c:\n",
    "                return f'{a}^2+{b}^2={c}'\n",
    "        \n",
    "    return f'Число {c} не можна представити квадратами двох цілих чисел'\n",
    "\n",
    "print(is_sum_of_squares('str')) #Отримано нечислове значення\n",
    "print(is_sum_of_squares(5.2)) #Число 5.2 не можна представити квадратами двох цілих чисел\n",
    "print(is_sum_of_squares(-5)) #Число -5 не можна представити квадратами двох цілих чисел\n",
    "print(is_sum_of_squares(5)) #1^2+2^2=5\n",
    "print(is_sum_of_squares(8)) #2^2+2^2=8\n",
    "print(is_sum_of_squares(11)) #Число 11 не можна представити квадратами двох цілих чисел"
   ]
  },
  {
   "cell_type": "code",
   "execution_count": 5,
   "id": "6137e956",
   "metadata": {},
   "outputs": [
    {
     "data": {
      "text/html": [
       "<h1>Horway</h1>\n"
      ],
      "text/plain": [
       "<IPython.core.display.HTML object>"
      ]
     },
     "metadata": {},
     "output_type": "display_data"
    }
   ],
   "source": []
  },
  {
   "cell_type": "code",
   "execution_count": null,
   "id": "e8e41e79",
   "metadata": {},
   "outputs": [],
   "source": []
  }
 ],
 "metadata": {
  "kernelspec": {
   "display_name": "Python 3 (ipykernel)",
   "language": "python",
   "name": "python3"
  },
  "language_info": {
   "codemirror_mode": {
    "name": "ipython",
    "version": 3
   },
   "file_extension": ".py",
   "mimetype": "text/x-python",
   "name": "python",
   "nbconvert_exporter": "python",
   "pygments_lexer": "ipython3",
   "version": "3.11.5"
  }
 },
 "nbformat": 4,
 "nbformat_minor": 5
}
