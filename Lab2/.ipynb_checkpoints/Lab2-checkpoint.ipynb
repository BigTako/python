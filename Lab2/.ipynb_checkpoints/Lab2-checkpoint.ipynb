{
 "cells": [
  {
   "cell_type": "code",
   "execution_count": 1,
   "id": "8fadd838",
   "metadata": {},
   "outputs": [
    {
     "name": "stdout",
     "output_type": "stream",
     "text": [
      "3\n"
     ]
    }
   ],
   "source": [
    "N = (23 + 4 ) % 5 + 1\n",
    "print(N)"
   ]
  },
  {
   "cell_type": "code",
   "execution_count": 2,
   "id": "f5041851",
   "metadata": {},
   "outputs": [
    {
     "data": {
      "text/html": [
       "<div>\n",
       "<style scoped>\n",
       "    .dataframe tbody tr th:only-of-type {\n",
       "        vertical-align: middle;\n",
       "    }\n",
       "\n",
       "    .dataframe tbody tr th {\n",
       "        vertical-align: top;\n",
       "    }\n",
       "\n",
       "    .dataframe thead th {\n",
       "        text-align: right;\n",
       "    }\n",
       "</style>\n",
       "<table border=\"1\" class=\"dataframe\">\n",
       "  <thead>\n",
       "    <tr style=\"text-align: right;\">\n",
       "      <th></th>\n",
       "      <th>Id</th>\n",
       "      <th>Name</th>\n",
       "      <th>Year</th>\n",
       "      <th>Gender</th>\n",
       "      <th>Count</th>\n",
       "    </tr>\n",
       "  </thead>\n",
       "  <tbody>\n",
       "    <tr>\n",
       "      <th>0</th>\n",
       "      <td>1</td>\n",
       "      <td>Mary</td>\n",
       "      <td>1880</td>\n",
       "      <td>F</td>\n",
       "      <td>7065</td>\n",
       "    </tr>\n",
       "    <tr>\n",
       "      <th>1</th>\n",
       "      <td>2</td>\n",
       "      <td>Anna</td>\n",
       "      <td>1880</td>\n",
       "      <td>F</td>\n",
       "      <td>2604</td>\n",
       "    </tr>\n",
       "    <tr>\n",
       "      <th>2</th>\n",
       "      <td>3</td>\n",
       "      <td>Emma</td>\n",
       "      <td>1880</td>\n",
       "      <td>F</td>\n",
       "      <td>2003</td>\n",
       "    </tr>\n",
       "    <tr>\n",
       "      <th>3</th>\n",
       "      <td>4</td>\n",
       "      <td>Elizabeth</td>\n",
       "      <td>1880</td>\n",
       "      <td>F</td>\n",
       "      <td>1939</td>\n",
       "    </tr>\n",
       "    <tr>\n",
       "      <th>4</th>\n",
       "      <td>5</td>\n",
       "      <td>Minnie</td>\n",
       "      <td>1880</td>\n",
       "      <td>F</td>\n",
       "      <td>1746</td>\n",
       "    </tr>\n",
       "    <tr>\n",
       "      <th>5</th>\n",
       "      <td>6</td>\n",
       "      <td>Margaret</td>\n",
       "      <td>1880</td>\n",
       "      <td>F</td>\n",
       "      <td>1578</td>\n",
       "    </tr>\n",
       "    <tr>\n",
       "      <th>6</th>\n",
       "      <td>7</td>\n",
       "      <td>Ida</td>\n",
       "      <td>1880</td>\n",
       "      <td>F</td>\n",
       "      <td>1472</td>\n",
       "    </tr>\n",
       "    <tr>\n",
       "      <th>7</th>\n",
       "      <td>8</td>\n",
       "      <td>Alice</td>\n",
       "      <td>1880</td>\n",
       "      <td>F</td>\n",
       "      <td>1414</td>\n",
       "    </tr>\n",
       "  </tbody>\n",
       "</table>\n",
       "</div>"
      ],
      "text/plain": [
       "   Id       Name  Year Gender  Count\n",
       "0   1       Mary  1880      F   7065\n",
       "1   2       Anna  1880      F   2604\n",
       "2   3       Emma  1880      F   2003\n",
       "3   4  Elizabeth  1880      F   1939\n",
       "4   5     Minnie  1880      F   1746\n",
       "5   6   Margaret  1880      F   1578\n",
       "6   7        Ida  1880      F   1472\n",
       "7   8      Alice  1880      F   1414"
      ]
     },
     "execution_count": 2,
     "metadata": {},
     "output_type": "execute_result"
    }
   ],
   "source": [
    "#1\n",
    "import pandas\n",
    "\n",
    "csv_path = 'csv/NationalNames.csv'\n",
    "df = pandas.read_csv(csv_path)\n",
    "df.head(8)"
   ]
  },
  {
   "cell_type": "code",
   "execution_count": 3,
   "id": "2b15f2de",
   "metadata": {},
   "outputs": [
    {
     "data": {
      "text/html": [
       "<div>\n",
       "<style scoped>\n",
       "    .dataframe tbody tr th:only-of-type {\n",
       "        vertical-align: middle;\n",
       "    }\n",
       "\n",
       "    .dataframe tbody tr th {\n",
       "        vertical-align: top;\n",
       "    }\n",
       "\n",
       "    .dataframe thead th {\n",
       "        text-align: right;\n",
       "    }\n",
       "</style>\n",
       "<table border=\"1\" class=\"dataframe\">\n",
       "  <thead>\n",
       "    <tr style=\"text-align: right;\">\n",
       "      <th></th>\n",
       "      <th>Id</th>\n",
       "      <th>Name</th>\n",
       "      <th>Year</th>\n",
       "      <th>Gender</th>\n",
       "      <th>Count</th>\n",
       "    </tr>\n",
       "  </thead>\n",
       "  <tbody>\n",
       "    <tr>\n",
       "      <th>1825425</th>\n",
       "      <td>1825426</td>\n",
       "      <td>Zo</td>\n",
       "      <td>2014</td>\n",
       "      <td>M</td>\n",
       "      <td>5</td>\n",
       "    </tr>\n",
       "    <tr>\n",
       "      <th>1825426</th>\n",
       "      <td>1825427</td>\n",
       "      <td>Zyeir</td>\n",
       "      <td>2014</td>\n",
       "      <td>M</td>\n",
       "      <td>5</td>\n",
       "    </tr>\n",
       "    <tr>\n",
       "      <th>1825427</th>\n",
       "      <td>1825428</td>\n",
       "      <td>Zyel</td>\n",
       "      <td>2014</td>\n",
       "      <td>M</td>\n",
       "      <td>5</td>\n",
       "    </tr>\n",
       "    <tr>\n",
       "      <th>1825428</th>\n",
       "      <td>1825429</td>\n",
       "      <td>Zykeem</td>\n",
       "      <td>2014</td>\n",
       "      <td>M</td>\n",
       "      <td>5</td>\n",
       "    </tr>\n",
       "    <tr>\n",
       "      <th>1825429</th>\n",
       "      <td>1825430</td>\n",
       "      <td>Zymeer</td>\n",
       "      <td>2014</td>\n",
       "      <td>M</td>\n",
       "      <td>5</td>\n",
       "    </tr>\n",
       "    <tr>\n",
       "      <th>1825430</th>\n",
       "      <td>1825431</td>\n",
       "      <td>Zymiere</td>\n",
       "      <td>2014</td>\n",
       "      <td>M</td>\n",
       "      <td>5</td>\n",
       "    </tr>\n",
       "    <tr>\n",
       "      <th>1825431</th>\n",
       "      <td>1825432</td>\n",
       "      <td>Zyran</td>\n",
       "      <td>2014</td>\n",
       "      <td>M</td>\n",
       "      <td>5</td>\n",
       "    </tr>\n",
       "    <tr>\n",
       "      <th>1825432</th>\n",
       "      <td>1825433</td>\n",
       "      <td>Zyrin</td>\n",
       "      <td>2014</td>\n",
       "      <td>M</td>\n",
       "      <td>5</td>\n",
       "    </tr>\n",
       "  </tbody>\n",
       "</table>\n",
       "</div>"
      ],
      "text/plain": [
       "              Id     Name  Year Gender  Count\n",
       "1825425  1825426       Zo  2014      M      5\n",
       "1825426  1825427    Zyeir  2014      M      5\n",
       "1825427  1825428     Zyel  2014      M      5\n",
       "1825428  1825429   Zykeem  2014      M      5\n",
       "1825429  1825430   Zymeer  2014      M      5\n",
       "1825430  1825431  Zymiere  2014      M      5\n",
       "1825431  1825432    Zyran  2014      M      5\n",
       "1825432  1825433    Zyrin  2014      M      5"
      ]
     },
     "execution_count": 3,
     "metadata": {},
     "output_type": "execute_result"
    }
   ],
   "source": [
    "#2\n",
    "import pandas\n",
    "\n",
    "csv_path = 'csv/NationalNames.csv'\n",
    "df = pandas.read_csv(csv_path)\n",
    "df.tail(8)"
   ]
  },
  {
   "cell_type": "code",
   "execution_count": 14,
   "id": "64068826",
   "metadata": {},
   "outputs": [
    {
     "data": {
      "text/html": [
       "<div>\n",
       "<style scoped>\n",
       "    .dataframe tbody tr th:only-of-type {\n",
       "        vertical-align: middle;\n",
       "    }\n",
       "\n",
       "    .dataframe tbody tr th {\n",
       "        vertical-align: top;\n",
       "    }\n",
       "\n",
       "    .dataframe thead th {\n",
       "        text-align: right;\n",
       "    }\n",
       "</style>\n",
       "<table border=\"1\" class=\"dataframe\">\n",
       "  <thead>\n",
       "    <tr style=\"text-align: right;\">\n",
       "      <th></th>\n",
       "      <th>Id</th>\n",
       "      <th>Year</th>\n",
       "      <th>Count</th>\n",
       "    </tr>\n",
       "  </thead>\n",
       "  <tbody>\n",
       "    <tr>\n",
       "      <th>count</th>\n",
       "      <td>1.825433e+06</td>\n",
       "      <td>1.825433e+06</td>\n",
       "      <td>1.825433e+06</td>\n",
       "    </tr>\n",
       "    <tr>\n",
       "      <th>mean</th>\n",
       "      <td>9.127170e+05</td>\n",
       "      <td>1.972620e+03</td>\n",
       "      <td>1.846879e+02</td>\n",
       "    </tr>\n",
       "    <tr>\n",
       "      <th>std</th>\n",
       "      <td>5.269573e+05</td>\n",
       "      <td>3.352891e+01</td>\n",
       "      <td>1.566711e+03</td>\n",
       "    </tr>\n",
       "    <tr>\n",
       "      <th>min</th>\n",
       "      <td>1.000000e+00</td>\n",
       "      <td>1.880000e+03</td>\n",
       "      <td>5.000000e+00</td>\n",
       "    </tr>\n",
       "    <tr>\n",
       "      <th>25%</th>\n",
       "      <td>4.563590e+05</td>\n",
       "      <td>1.949000e+03</td>\n",
       "      <td>7.000000e+00</td>\n",
       "    </tr>\n",
       "    <tr>\n",
       "      <th>50%</th>\n",
       "      <td>9.127170e+05</td>\n",
       "      <td>1.982000e+03</td>\n",
       "      <td>1.200000e+01</td>\n",
       "    </tr>\n",
       "    <tr>\n",
       "      <th>75%</th>\n",
       "      <td>1.369075e+06</td>\n",
       "      <td>2.001000e+03</td>\n",
       "      <td>3.200000e+01</td>\n",
       "    </tr>\n",
       "    <tr>\n",
       "      <th>max</th>\n",
       "      <td>1.825433e+06</td>\n",
       "      <td>2.014000e+03</td>\n",
       "      <td>9.968000e+04</td>\n",
       "    </tr>\n",
       "  </tbody>\n",
       "</table>\n",
       "</div>"
      ],
      "text/plain": [
       "                 Id          Year         Count\n",
       "count  1.825433e+06  1.825433e+06  1.825433e+06\n",
       "mean   9.127170e+05  1.972620e+03  1.846879e+02\n",
       "std    5.269573e+05  3.352891e+01  1.566711e+03\n",
       "min    1.000000e+00  1.880000e+03  5.000000e+00\n",
       "25%    4.563590e+05  1.949000e+03  7.000000e+00\n",
       "50%    9.127170e+05  1.982000e+03  1.200000e+01\n",
       "75%    1.369075e+06  2.001000e+03  3.200000e+01\n",
       "max    1.825433e+06  2.014000e+03  9.968000e+04"
      ]
     },
     "execution_count": 14,
     "metadata": {},
     "output_type": "execute_result"
    }
   ],
   "source": [
    "#4\n",
    "import pandas as pd\n",
    "\n",
    "# Read the CSV file\n",
    "csv_path = 'csv/NationalNames.csv'\n",
    "\n",
    "\n",
    "# Read the CSV file\n",
    "df = pd.read_csv(csv_path)\n",
    "\n",
    "# Get general information about the data\n",
    "df.describe()"
   ]
  },
  {
   "cell_type": "code",
   "execution_count": 4,
   "id": "b09e8217",
   "metadata": {},
   "outputs": [
    {
     "data": {
      "text/plain": [
       "93889"
      ]
     },
     "execution_count": 4,
     "metadata": {},
     "output_type": "execute_result"
    }
   ],
   "source": [
    "#5\n",
    "import pandas\n",
    "\n",
    "csv_path = 'csv/NationalNames.csv'\n",
    "df = pandas.read_csv(csv_path)\n",
    "df['Name'].nunique()"
   ]
  },
  {
   "cell_type": "code",
   "execution_count": 26,
   "id": "c8a0726e",
   "metadata": {},
   "outputs": [
    {
     "name": "stdout",
     "output_type": "stream",
     "text": [
      "F: 64911\n",
      "M: 39199\n"
     ]
    }
   ],
   "source": [
    "#6\n",
    "import pandas as pd\n",
    "\n",
    "# Read the CSV file\n",
    "df = pd.read_csv('csv/NationalNames.csv')\n",
    "\n",
    "# Calculate the number of unique female names\n",
    "unique_female_names = df[df['Gender'] == 'F']['Name'].nunique()\n",
    "\n",
    "# Calculate the number of unique male names\n",
    "unique_male_names = df[df['Gender'] == 'M']['Name'].nunique()\n",
    "\n",
    "\n",
    "print(f'F: {unique_female_names}')\n",
    "print(f'M: {unique_male_names}')"
   ]
  },
  {
   "cell_type": "code",
   "execution_count": 27,
   "id": "dba5c57e",
   "metadata": {},
   "outputs": [
    {
     "name": "stdout",
     "output_type": "stream",
     "text": [
      "              Id     Name  Year Gender  Count\n",
      "1677392  1677393    Jacob  2010      M  22082\n",
      "1677393  1677394    Ethan  2010      M  17985\n",
      "1677394  1677395  Michael  2010      M  17308\n",
      "1677395  1677396   Jayden  2010      M  17152\n",
      "1677396  1677397  William  2010      M  17030\n"
     ]
    }
   ],
   "source": [
    "#7\n",
    "import pandas as pd\n",
    "\n",
    "# Read the CSV file\n",
    "df = pd.read_csv('csv/NationalNames.csv')\n",
    "\n",
    "# Filter for the year 2010 and gender 'M'\n",
    "df_2010_m = df[(df['Year'] == 2010) & (df['Gender'] == 'M')]\n",
    "\n",
    "# Find the 5 most popular male names\n",
    "top_5_male_names = df_2010_m.groupby('Name')['Count'].sum().sort_values(ascending=False).head(5).index\n",
    "\n",
    "# Filter the original DataFrame for the top 5 male names in 2010\n",
    "top_5_male_names_df = df[df['Name'].isin(top_5_male_names) & (df['Year'] == 2010) & (df['Gender'] == 'M')]\n",
    "\n",
    "print(top_5_male_names_df)"
   ]
  },
  {
   "cell_type": "code",
   "execution_count": 30,
   "id": "634043a8",
   "metadata": {},
   "outputs": [
    {
     "name": "stdout",
     "output_type": "stream",
     "text": [
      "The name 'Linda' in year 1947.\n"
     ]
    }
   ],
   "source": [
    "#8\n",
    "import pandas as pd\n",
    "\n",
    "# Read the CSV file\n",
    "df = pd.read_csv('csv/NationalNames.csv')\n",
    "\n",
    "# Group by 'Year' and 'Name' and sum 'Count'\n",
    "name_counts = df.groupby(['Year', 'Name'])['Count'].sum()\n",
    "\n",
    "# Find the year and name with the maximum count\n",
    "most_popular_name_year = name_counts.idxmax()\n",
    "\n",
    "print(f\"The name '{most_popular_name_year[1]}' in year {most_popular_name_year[0]}.\")"
   ]
  },
  {
   "cell_type": "code",
   "execution_count": 32,
   "id": "7e86e9d9",
   "metadata": {},
   "outputs": [
    {
     "name": "stdout",
     "output_type": "stream",
     "text": [
      "254615.\n"
     ]
    }
   ],
   "source": [
    "#9\n",
    "import pandas as pd\n",
    "\n",
    "# Read the CSV file\n",
    "df = pd.read_csv('csv/NationalNames.csv')\n",
    "\n",
    "# Find the minimum 'Count'\n",
    "min_count = df['Count'].min()\n",
    "\n",
    "# Count the number of records with the minimum 'Count'\n",
    "num_min_count = df['Count'].value_counts().loc[min_count]\n",
    "\n",
    "print(num_min_count)"
   ]
  },
  {
   "cell_type": "code",
   "execution_count": 5,
   "id": "b20b3e79",
   "metadata": {},
   "outputs": [
    {
     "data": {
      "text/plain": [
       "Year\n",
       "1880     1889\n",
       "1881     1830\n",
       "1882     2012\n",
       "1883     1962\n",
       "1884     2158\n",
       "        ...  \n",
       "2010    31603\n",
       "2011    31418\n",
       "2012    31236\n",
       "2013    30774\n",
       "2014    30579\n",
       "Name: Name, Length: 135, dtype: int64"
      ]
     },
     "execution_count": 5,
     "metadata": {},
     "output_type": "execute_result"
    }
   ],
   "source": [
    "#10\n",
    "import pandas\n",
    "\n",
    "csv_path = 'csv/NationalNames.csv'\n",
    "df = pandas.read_csv(csv_path)\n",
    "df.groupby('Year')['Name'].nunique()"
   ]
  },
  {
   "cell_type": "code",
   "execution_count": 6,
   "id": "81c2ca95",
   "metadata": {},
   "outputs": [
    {
     "data": {
      "text/plain": [
       "2008"
      ]
     },
     "execution_count": 6,
     "metadata": {},
     "output_type": "execute_result"
    }
   ],
   "source": [
    "#11\n",
    "import pandas\n",
    "\n",
    "csv_path = 'csv/NationalNames.csv'\n",
    "df = pandas.read_csv(csv_path)\n",
    "df.groupby('Year')['Name'].nunique().idxmax()"
   ]
  },
  {
   "cell_type": "code",
   "execution_count": 7,
   "id": "ee325128",
   "metadata": {},
   "outputs": [
    {
     "data": {
      "text/plain": [
       "'Jacob'"
      ]
     },
     "execution_count": 7,
     "metadata": {},
     "output_type": "execute_result"
    }
   ],
   "source": [
    "#12\n",
    "import pandas\n",
    "\n",
    "csv_path = 'csv/NationalNames.csv'\n",
    "df = pandas.read_csv(csv_path)\n",
    "count = df.loc[df['Year'] == 2008, 'Count'].max()\n",
    "df.loc[df['Count'] == count, 'Name'].values[0]"
   ]
  },
  {
   "cell_type": "code",
   "execution_count": 8,
   "id": "7c84a61f",
   "metadata": {},
   "outputs": [
    {
     "name": "stdout",
     "output_type": "stream",
     "text": [
      "54\n"
     ]
    }
   ],
   "source": [
    "#18\n",
    "import pandas as pd\n",
    "\n",
    "df = pd.read_csv(\"csv/NationalNames.csv\")\n",
    "gender_count_by_year = df.groupby(['Year', 'Gender'])['Count'].sum().unstack(fill_value=0)\n",
    "\n",
    "years_with_more_girls = (gender_count_by_year['F'] > gender_count_by_year['M']).sum()\n",
    "\n",
    "print(years_with_more_girls)"
   ]
  },
  {
   "cell_type": "code",
   "execution_count": 33,
   "id": "e80e2729",
   "metadata": {},
   "outputs": [
    {
     "data": {
      "image/png": "[encoded data removed]",
      "text/plain": [
       "<Figure size 640x480 with 1 Axes>"
      ]
     },
     "metadata": {},
     "output_type": "display_data"
    }
   ],
   "source": [
    "#19\n",
    "import pandas as pd\n",
    "import matplotlib.pyplot as plt\n",
    "\n",
    "# Read the CSV file\n",
    "df = pd.read_csv('csv/NationalNames.csv')\n",
    "\n",
    "# Group by 'Year' and 'Gender' and sum 'Count'\n",
    "births_per_year_gender = df.groupby(['Year', 'Gender'])['Count'].sum().unstack()\n",
    "\n",
    "# Plot the total number of births per year for each gender\n",
    "births_per_year_gender.plot(title='Total Number of Births per Year')\n",
    "plt.show()"
   ]
  },
  {
   "cell_type": "code",
   "execution_count": 34,
   "id": "269dc326",
   "metadata": {},
   "outputs": [
    {
     "name": "stdout",
     "output_type": "stream",
     "text": [
      "10221\n"
     ]
    }
   ],
   "source": [
    "#20\n",
    "import pandas as pd\n",
    "\n",
    "# Read the CSV file\n",
    "df = pd.read_csv('csv/NationalNames.csv')\n",
    "\n",
    "# Find the unique names for each gender\n",
    "female_names = set(df[df['Gender'] == 'F']['Name'].unique())\n",
    "male_names = set(df[df['Gender'] == 'M']['Name'].unique())\n",
    "\n",
    "# Find the intersection of the two sets (the gender-neutral names)\n",
    "gender_neutral_names = female_names.intersection(male_names)\n",
    "\n",
    "# Count the number of gender-neutral names\n",
    "num_gender_neutral_names = len(gender_neutral_names)\n",
    "\n",
    "print(num_gender_neutral_names)"
   ]
  },
  {
   "cell_type": "code",
   "execution_count": 9,
   "id": "e64a2e07",
   "metadata": {},
   "outputs": [
    {
     "data": {
      "text/plain": [
       "4139"
      ]
     },
     "execution_count": 9,
     "metadata": {},
     "output_type": "execute_result"
    }
   ],
   "source": [
    "#21\n",
    "import pandas\n",
    "\n",
    "csv_path = 'csv/NationalNames.csv'\n",
    "df = pandas.read_csv(csv_path)\n",
    "df.loc[\n",
    "    (df['Name'] == 'Barbara') &\n",
    "    (df['Gender'] == 'M'),\n",
    "    'Count'\n",
    "].sum()"
   ]
  },
  {
   "cell_type": "code",
   "execution_count": 10,
   "id": "af0c3c9d",
   "metadata": {},
   "outputs": [
    {
     "name": "stdout",
     "output_type": "stream",
     "text": [
      "Name\n",
      "Lee        135\n",
      "James      135\n",
      "Johnnie    135\n",
      "Jesse      135\n",
      "Ollie      135\n",
      "Marion     135\n",
      "Jessie     135\n",
      "Robert     135\n",
      "Tommie     135\n",
      "Joseph     135\n",
      "Leslie     135\n",
      "John       135\n",
      "William    135\n",
      "Sidney     135\n",
      "Jean       135\n",
      "Name: Year, dtype: int64\n"
     ]
    }
   ],
   "source": [
    "# 23\n",
    "import pandas as pd\n",
    "\n",
    "df = pd.read_csv(\"csv/NationalNames.csv\")\n",
    "gender_counts_by_year = df.groupby(['Year', 'Name'])['Gender'].nunique().reset_index()\n",
    "\n",
    "neutral_names_by_year = gender_counts_by_year[gender_counts_by_year['Gender'] == 2]\n",
    "\n",
    "most_popular_neutral_names = neutral_names_by_year.groupby('Name')['Year'].count().sort_values(ascending=False)\n",
    "\n",
    "print(most_popular_neutral_names.head(15))"
   ]
  },
  {
   "cell_type": "code",
   "execution_count": 35,
   "id": "74a17c10",
   "metadata": {},
   "outputs": [
    {
     "data": {
      "image/png": "[encoded data removed]",
      "text/plain": [
       "<Figure size 640x480 with 1 Axes>"
      ]
     },
     "metadata": {},
     "output_type": "display_data"
    }
   ],
   "source": [
    "#25\n",
    "import pandas as pd\n",
    "import matplotlib.pyplot as plt\n",
    "\n",
    "# Read the CSV file\n",
    "df = pd.read_csv('csv/NationalNames.csv')\n",
    "\n",
    "# Filter for the names 'John' and 'Mary'\n",
    "df_john_mary = df[df['Name'].isin(['John', 'Mary'])]\n",
    "\n",
    "# Group by 'Year' and 'Name' and sum 'Count'\n",
    "counts_per_year_name = df_john_mary.groupby(['Year', 'Name'])['Count'].sum().unstack()\n",
    "\n",
    "# Plot the distribution of the names 'John' and 'Mary' over the years\n",
    "counts_per_year_name.plot(title='Distribution of the Names John and Mary Over the Years')\n",
    "plt.show()"
   ]
  },
  {
   "cell_type": "code",
   "execution_count": 38,
   "id": "143494d4",
   "metadata": {},
   "outputs": [
    {
     "name": "stdout",
     "output_type": "stream",
     "text": [
      "          Name  Count\n",
      "Year                 \n",
      "1880      John   9701\n",
      "1881      John   8795\n",
      "1882      John   9597\n",
      "1883      John   8934\n",
      "1884      John   9428\n",
      "...        ...    ...\n",
      "2010  Isabella  22913\n",
      "2011    Sophia  21839\n",
      "2012    Sophia  22285\n",
      "2013    Sophia  21172\n",
      "2014      Emma  20811\n",
      "\n",
      "[135 rows x 2 columns]\n"
     ]
    }
   ],
   "source": [
    "#27\n",
    "import pandas as pd\n",
    "\n",
    "# Read the CSV file\n",
    "df = pd.read_csv('csv/NationalNames.csv')\n",
    "\n",
    "# Group by 'Year' and 'Name' and sum 'Count'\n",
    "name_counts = df.groupby(['Year', 'Name'])['Count'].sum()\n",
    "\n",
    "# Find the most popular name and its count in each year\n",
    "most_popular_names = name_counts.groupby(level=0).idxmax()\n",
    "most_popular_counts = name_counts.groupby(level=0).max()\n",
    "\n",
    "# Create a DataFrame from the most popular names and their counts\n",
    "most_popular_df = pd.DataFrame({\n",
    "    'Name': most_popular_names.apply(lambda x: x[1]),\n",
    "    'Count': most_popular_counts\n",
    "})\n",
    "\n",
    "print(most_popular_df)"
   ]
  }
 ],
 "metadata": {
  "kernelspec": {
   "display_name": "Python 3 (ipykernel)",
   "language": "python",
   "name": "python3"
  },
  "language_info": {
   "codemirror_mode": {
    "name": "ipython",
    "version": 3
   },
   "file_extension": ".py",
   "mimetype": "text/x-python",
   "name": "python",
   "nbconvert_exporter": "python",
   "pygments_lexer": "ipython3",
   "version": "3.11.5"
  }
 },
 "nbformat": 4,
 "nbformat_minor": 5
}
